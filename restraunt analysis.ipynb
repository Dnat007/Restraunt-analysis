{
 "cells": [
  {
   "cell_type": "code",
   "execution_count": 1,
   "id": "87b87071",
   "metadata": {},
   "outputs": [],
   "source": [
    "import pandas as pd\n",
    "import seaborn as sns\n",
    "import numpy as np\n",
    "import matplotlib.pyplot as plt\n",
    "import warnings\n",
    "warnings.filterwarnings(\"ignore\") "
   ]
  },
  {
   "cell_type": "code",
   "execution_count": 2,
   "id": "2a5950d9",
   "metadata": {},
   "outputs": [],
   "source": [
    "df = pd.read_csv('zomato.csv')"
   ]
  },
  {
   "cell_type": "code",
   "execution_count": 3,
   "id": "ef2ec984",
   "metadata": {},
   "outputs": [
    {
     "data": {
      "text/html": [
       "<div>\n",
       "<style scoped>\n",
       "    .dataframe tbody tr th:only-of-type {\n",
       "        vertical-align: middle;\n",
       "    }\n",
       "\n",
       "    .dataframe tbody tr th {\n",
       "        vertical-align: top;\n",
       "    }\n",
       "\n",
       "    .dataframe thead th {\n",
       "        text-align: right;\n",
       "    }\n",
       "</style>\n",
       "<table border=\"1\" class=\"dataframe\">\n",
       "  <thead>\n",
       "    <tr style=\"text-align: right;\">\n",
       "      <th></th>\n",
       "      <th>url</th>\n",
       "      <th>address</th>\n",
       "      <th>name</th>\n",
       "      <th>online_order</th>\n",
       "      <th>book_table</th>\n",
       "      <th>rate</th>\n",
       "      <th>votes</th>\n",
       "      <th>phone</th>\n",
       "      <th>location</th>\n",
       "      <th>rest_type</th>\n",
       "      <th>dish_liked</th>\n",
       "      <th>cuisines</th>\n",
       "      <th>approx_cost(for two people)</th>\n",
       "      <th>reviews_list</th>\n",
       "      <th>menu_item</th>\n",
       "      <th>listed_in(type)</th>\n",
       "      <th>listed_in(city)</th>\n",
       "    </tr>\n",
       "  </thead>\n",
       "  <tbody>\n",
       "    <tr>\n",
       "      <th>0</th>\n",
       "      <td>https://www.zomato.com/bangalore/jalsa-banasha...</td>\n",
       "      <td>942, 21st Main Road, 2nd Stage, Banashankari, ...</td>\n",
       "      <td>Jalsa</td>\n",
       "      <td>Yes</td>\n",
       "      <td>Yes</td>\n",
       "      <td>4.1/5</td>\n",
       "      <td>775</td>\n",
       "      <td>080 42297555\\r\\n+91 9743772233</td>\n",
       "      <td>Banashankari</td>\n",
       "      <td>Casual Dining</td>\n",
       "      <td>Pasta, Lunch Buffet, Masala Papad, Paneer Laja...</td>\n",
       "      <td>North Indian, Mughlai, Chinese</td>\n",
       "      <td>800</td>\n",
       "      <td>[('Rated 4.0', 'RATED\\n  A beautiful place to ...</td>\n",
       "      <td>[]</td>\n",
       "      <td>Buffet</td>\n",
       "      <td>Banashankari</td>\n",
       "    </tr>\n",
       "    <tr>\n",
       "      <th>1</th>\n",
       "      <td>https://www.zomato.com/bangalore/spice-elephan...</td>\n",
       "      <td>2nd Floor, 80 Feet Road, Near Big Bazaar, 6th ...</td>\n",
       "      <td>Spice Elephant</td>\n",
       "      <td>Yes</td>\n",
       "      <td>No</td>\n",
       "      <td>4.1/5</td>\n",
       "      <td>787</td>\n",
       "      <td>080 41714161</td>\n",
       "      <td>Banashankari</td>\n",
       "      <td>Casual Dining</td>\n",
       "      <td>Momos, Lunch Buffet, Chocolate Nirvana, Thai G...</td>\n",
       "      <td>Chinese, North Indian, Thai</td>\n",
       "      <td>800</td>\n",
       "      <td>[('Rated 4.0', 'RATED\\n  Had been here for din...</td>\n",
       "      <td>[]</td>\n",
       "      <td>Buffet</td>\n",
       "      <td>Banashankari</td>\n",
       "    </tr>\n",
       "  </tbody>\n",
       "</table>\n",
       "</div>"
      ],
      "text/plain": [
       "                                                 url  \\\n",
       "0  https://www.zomato.com/bangalore/jalsa-banasha...   \n",
       "1  https://www.zomato.com/bangalore/spice-elephan...   \n",
       "\n",
       "                                             address            name  \\\n",
       "0  942, 21st Main Road, 2nd Stage, Banashankari, ...           Jalsa   \n",
       "1  2nd Floor, 80 Feet Road, Near Big Bazaar, 6th ...  Spice Elephant   \n",
       "\n",
       "  online_order book_table   rate  votes                           phone  \\\n",
       "0          Yes        Yes  4.1/5    775  080 42297555\\r\\n+91 9743772233   \n",
       "1          Yes         No  4.1/5    787                    080 41714161   \n",
       "\n",
       "       location      rest_type  \\\n",
       "0  Banashankari  Casual Dining   \n",
       "1  Banashankari  Casual Dining   \n",
       "\n",
       "                                          dish_liked  \\\n",
       "0  Pasta, Lunch Buffet, Masala Papad, Paneer Laja...   \n",
       "1  Momos, Lunch Buffet, Chocolate Nirvana, Thai G...   \n",
       "\n",
       "                         cuisines approx_cost(for two people)  \\\n",
       "0  North Indian, Mughlai, Chinese                         800   \n",
       "1     Chinese, North Indian, Thai                         800   \n",
       "\n",
       "                                        reviews_list menu_item  \\\n",
       "0  [('Rated 4.0', 'RATED\\n  A beautiful place to ...        []   \n",
       "1  [('Rated 4.0', 'RATED\\n  Had been here for din...        []   \n",
       "\n",
       "  listed_in(type) listed_in(city)  \n",
       "0          Buffet    Banashankari  \n",
       "1          Buffet    Banashankari  "
      ]
     },
     "execution_count": 3,
     "metadata": {},
     "output_type": "execute_result"
    }
   ],
   "source": [
    "df.head(2)"
   ]
  },
  {
   "cell_type": "code",
   "execution_count": 4,
   "id": "9a2fcb6b",
   "metadata": {},
   "outputs": [
    {
     "name": "stdout",
     "output_type": "stream",
     "text": [
      "<class 'pandas.core.frame.DataFrame'>\n",
      "RangeIndex: 51717 entries, 0 to 51716\n",
      "Data columns (total 17 columns):\n",
      " #   Column                       Non-Null Count  Dtype \n",
      "---  ------                       --------------  ----- \n",
      " 0   url                          51717 non-null  object\n",
      " 1   address                      51717 non-null  object\n",
      " 2   name                         51717 non-null  object\n",
      " 3   online_order                 51717 non-null  object\n",
      " 4   book_table                   51717 non-null  object\n",
      " 5   rate                         43942 non-null  object\n",
      " 6   votes                        51717 non-null  int64 \n",
      " 7   phone                        50509 non-null  object\n",
      " 8   location                     51696 non-null  object\n",
      " 9   rest_type                    51490 non-null  object\n",
      " 10  dish_liked                   23639 non-null  object\n",
      " 11  cuisines                     51672 non-null  object\n",
      " 12  approx_cost(for two people)  51371 non-null  object\n",
      " 13  reviews_list                 51717 non-null  object\n",
      " 14  menu_item                    51717 non-null  object\n",
      " 15  listed_in(type)              51717 non-null  object\n",
      " 16  listed_in(city)              51717 non-null  object\n",
      "dtypes: int64(1), object(16)\n",
      "memory usage: 6.7+ MB\n"
     ]
    }
   ],
   "source": [
    "df.info()"
   ]
  },
  {
   "cell_type": "code",
   "execution_count": 5,
   "id": "2d0a2072",
   "metadata": {},
   "outputs": [
    {
     "data": {
      "text/plain": [
       "url                                0\n",
       "address                            0\n",
       "name                               0\n",
       "online_order                       0\n",
       "book_table                         0\n",
       "rate                            7775\n",
       "votes                              0\n",
       "phone                           1208\n",
       "location                          21\n",
       "rest_type                        227\n",
       "dish_liked                     28078\n",
       "cuisines                          45\n",
       "approx_cost(for two people)      346\n",
       "reviews_list                       0\n",
       "menu_item                          0\n",
       "listed_in(type)                    0\n",
       "listed_in(city)                    0\n",
       "dtype: int64"
      ]
     },
     "execution_count": 5,
     "metadata": {},
     "output_type": "execute_result"
    }
   ],
   "source": [
    "df.isnull().sum()"
   ]
  },
  {
   "cell_type": "markdown",
   "id": "6059cd79",
   "metadata": {},
   "source": [
    "- __url__           : contains the url of the restaurant in the zomato website            \n",
    "- __address__         : contains the address of the restaurant in Bengaluru           \n",
    "- __name__            : contains the name of the restaurant           \n",
    "- __online_order__    : whether online ordering is available in the restaurant or not           \n",
    "- __book_table__      : table book option available or not         \n",
    "- __rate__            : contains the overall rating of the restaurant out of 5           \n",
    "- __votes__           : contains total number of rating for the restaurant as of the above mentioned date           \n",
    "- __phone__           : contains the phone number of the restaurant          \n",
    "- __location__        : contains the neighborhood in which the restaurant is located           \n",
    "- __rest_type__       : restaurant type           \n",
    "- __dish_liked__      : dishes people liked in the restaurant           \n",
    "- __cuisines__        : food styles, separated by comma              \n",
    "- __approx_cost(for two people)__ : contains the approximate cost for meal for two people\n",
    "- __reviews_list__    : list of tuples containing reviews for the restaurant, each tuple consists of two values, rating and review by the customer       \n",
    "- __menu_item__       : contains list of menus available in the restaurant              \n",
    "- __listed_in(type)__ : type of meal          \n",
    "- __listed_in(city)__ : contains the neighborhood in which the restaurant is listed"
   ]
  },
  {
   "cell_type": "markdown",
   "id": "784f70ca",
   "metadata": {},
   "source": [
    "### Dealing with null values"
   ]
  },
  {
   "cell_type": "markdown",
   "id": "ace011ce",
   "metadata": {},
   "source": [
    "- __Dish_liked__ has very 50% of null values so we will remove these columns"
   ]
  },
  {
   "cell_type": "code",
   "execution_count": 6,
   "id": "94408c14",
   "metadata": {},
   "outputs": [],
   "source": [
    "df.drop('dish_liked',inplace=True,axis=1)"
   ]
  },
  {
   "cell_type": "markdown",
   "id": "1bb9e72c",
   "metadata": {},
   "source": [
    "- remaining all we can perform some statistics so that we can able to fill the null values\n",
    "    - rate\n",
    "    - phone number\n",
    "    - location\n",
    "    - restaruant type\n",
    "    - cuisines            \n",
    "    - approx_cost(for two people)\n",
    "- now the issue is with rate is that its in object type so we will convert it into integer first\n",
    "- issue with phone number is that every restraunt has its phone number (so we will put all the restraunt which have the their phone number as yes other as no)\n",
    "- location we will try to fit that not with mode try to fit those values with the restraunt name and with dish so that we will get the exact location\n",
    "- restraunt type try to fill with mode or we can same like in location\n",
    "- try to fill cuisness with the mode one\n",
    "- cost of two people according to data mean or median or mode"
   ]
  },
  {
   "cell_type": "code",
   "execution_count": 7,
   "id": "f4309ca4",
   "metadata": {},
   "outputs": [],
   "source": [
    "# here we will fill all the phono number as yes if they contain any phone number else we will make them No that means they dont contain a phone number\n",
    "df['phone'].fillna('No', inplace=True)\n",
    "df.loc[df['phone'] != 'No', 'phone'] = 'Yes'"
   ]
  },
  {
   "cell_type": "code",
   "execution_count": 8,
   "id": "a73c1c14",
   "metadata": {},
   "outputs": [],
   "source": [
    "df['location'].fillna(df['location'].mode()[0],inplace=True)"
   ]
  },
  {
   "cell_type": "code",
   "execution_count": 9,
   "id": "839d0b45",
   "metadata": {},
   "outputs": [
    {
     "data": {
      "text/plain": [
       "Quick Bites                   19132\n",
       "Casual Dining                 10330\n",
       "Cafe                           3732\n",
       "Delivery                       2604\n",
       "Dessert Parlor                 2263\n",
       "                              ...  \n",
       "Dessert Parlor, Kiosk             2\n",
       "Food Court, Beverage Shop         2\n",
       "Dessert Parlor, Food Court        2\n",
       "Sweet Shop, Dessert Parlor        1\n",
       "Quick Bites, Kiosk                1\n",
       "Name: rest_type, Length: 93, dtype: int64"
      ]
     },
     "execution_count": 9,
     "metadata": {},
     "output_type": "execute_result"
    }
   ],
   "source": [
    "df.rest_type.value_counts()"
   ]
  },
  {
   "cell_type": "code",
   "execution_count": 10,
   "id": "8da8b7a4",
   "metadata": {},
   "outputs": [],
   "source": [
    "# fill the nan values of restraunt type with the mode \n",
    "df['rest_type'].fillna(df['rest_type'].mode()[0],inplace=True)"
   ]
  },
  {
   "cell_type": "code",
   "execution_count": 11,
   "id": "1a312179",
   "metadata": {},
   "outputs": [],
   "source": [
    "# fill the cuisiness with the mode once again\n",
    "df['cuisines'].fillna(df['cuisines'].mode()[0],inplace=True)"
   ]
  },
  {
   "cell_type": "code",
   "execution_count": 12,
   "id": "5e8445c5",
   "metadata": {},
   "outputs": [],
   "source": [
    "df.rename(columns={'approx_cost(for two people)':'costing'},inplace=True)"
   ]
  },
  {
   "cell_type": "code",
   "execution_count": 13,
   "id": "a07a3d3a",
   "metadata": {},
   "outputs": [
    {
     "data": {
      "text/plain": [
       "array(['800', '300', '600', '700', '550', '500', '450', '650', '400',\n",
       "       '900', '200', '750', '150', '850', '100', '1,200', '350', '250',\n",
       "       '950', '1,000', '1,500', '1,300', '199', '80', '1,100', '160',\n",
       "       '1,600', '230', '130', '50', '190', '1,700', nan, '1,400', '180',\n",
       "       '1,350', '2,200', '2,000', '1,800', '1,900', '330', '2,500',\n",
       "       '2,100', '3,000', '2,800', '3,400', '40', '1,250', '3,500',\n",
       "       '4,000', '2,400', '2,600', '120', '1,450', '469', '70', '3,200',\n",
       "       '60', '560', '240', '360', '6,000', '1,050', '2,300', '4,100',\n",
       "       '5,000', '3,700', '1,650', '2,700', '4,500', '140'], dtype=object)"
      ]
     },
     "execution_count": 13,
     "metadata": {},
     "output_type": "execute_result"
    }
   ],
   "source": [
    "df.costing.unique()"
   ]
  },
  {
   "cell_type": "code",
   "execution_count": 14,
   "id": "573a2385",
   "metadata": {},
   "outputs": [],
   "source": [
    "df['costing'] = df['costing'].str.replace(',','')"
   ]
  },
  {
   "cell_type": "code",
   "execution_count": 15,
   "id": "dc0ce970",
   "metadata": {},
   "outputs": [],
   "source": [
    "df['costing'].fillna(df['costing'].median(),inplace=True)"
   ]
  },
  {
   "cell_type": "code",
   "execution_count": 16,
   "id": "18e68ddc",
   "metadata": {},
   "outputs": [],
   "source": [
    "df['costing'] = df['costing'].astype(int)"
   ]
  },
  {
   "cell_type": "code",
   "execution_count": 17,
   "id": "153d9ee9",
   "metadata": {},
   "outputs": [],
   "source": [
    "# try to convert rate into integer type\n",
    "# we will remove the 5 from the end because we understood that rating will be done out of 5 \n",
    "df['rate'] = df.rate.str.replace('/5','')"
   ]
  },
  {
   "cell_type": "code",
   "execution_count": 18,
   "id": "6ffca539",
   "metadata": {
    "scrolled": true
   },
   "outputs": [
    {
     "data": {
      "text/plain": [
       "array(['4.1', '3.8', '3.7', '3.6', '4.6', '4.0', '4.2', '3.9', '3.1',\n",
       "       '3.0', '3.2', '3.3', '2.8', '4.4', '4.3', 'NEW', '2.9', '3.5', nan,\n",
       "       '2.6', '3.8 ', '3.4', '4.5', '2.5', '2.7', '4.7', '2.4', '2.2',\n",
       "       '2.3', '3.4 ', '-', '3.6 ', '4.8', '3.9 ', '4.2 ', '4.0 ', '4.1 ',\n",
       "       '3.7 ', '3.1 ', '2.9 ', '3.3 ', '2.8 ', '3.5 ', '2.7 ', '2.5 ',\n",
       "       '3.2 ', '2.6 ', '4.5 ', '4.3 ', '4.4 ', '4.9', '2.1', '2.0', '1.8',\n",
       "       '4.6 ', '4.9 ', '3.0 ', '4.8 ', '2.3 ', '4.7 ', '2.4 ', '2.1 ',\n",
       "       '2.2 ', '2.0 ', '1.8 '], dtype=object)"
      ]
     },
     "execution_count": 18,
     "metadata": {},
     "output_type": "execute_result"
    }
   ],
   "source": [
    "df.rate.unique()"
   ]
  },
  {
   "cell_type": "code",
   "execution_count": 19,
   "id": "7c5b837f",
   "metadata": {},
   "outputs": [
    {
     "data": {
      "text/plain": [
       "<AxesSubplot:xlabel='rate', ylabel='Count'>"
      ]
     },
     "execution_count": 19,
     "metadata": {},
     "output_type": "execute_result"
    },
    {
     "data": {
      "image/png": "[encoded data removed]",
      "text/plain": [
       "<Figure size 432x288 with 1 Axes>"
      ]
     },
     "metadata": {
      "needs_background": "light"
     },
     "output_type": "display_data"
    }
   ],
   "source": [
    "sns.histplot(df.rate)"
   ]
  },
  {
   "cell_type": "code",
   "execution_count": 20,
   "id": "77287ad8",
   "metadata": {},
   "outputs": [],
   "source": [
    "df['rate'] = df.rate.replace('NEW',np.nan)"
   ]
  },
  {
   "cell_type": "code",
   "execution_count": 21,
   "id": "bb974e45",
   "metadata": {},
   "outputs": [],
   "source": [
    "df['rate'] = df.rate.replace('-',np.nan)"
   ]
  },
  {
   "cell_type": "code",
   "execution_count": 22,
   "id": "f906519f",
   "metadata": {},
   "outputs": [],
   "source": [
    "df['rate'].fillna(df.rate.median(),inplace=True)"
   ]
  },
  {
   "cell_type": "code",
   "execution_count": 23,
   "id": "12666665",
   "metadata": {},
   "outputs": [],
   "source": [
    "df['rate'] = df.rate.astype(float)"
   ]
  },
  {
   "cell_type": "code",
   "execution_count": 24,
   "id": "1fbe3e5d",
   "metadata": {},
   "outputs": [],
   "source": [
    "# we also dont want that url section so we can drop that\n",
    "df.drop('url',inplace=True,axis=1)"
   ]
  },
  {
   "cell_type": "code",
   "execution_count": 25,
   "id": "a6b77fd8",
   "metadata": {},
   "outputs": [
    {
     "data": {
      "text/plain": [
       "address            0\n",
       "name               0\n",
       "online_order       0\n",
       "book_table         0\n",
       "rate               0\n",
       "votes              0\n",
       "phone              0\n",
       "location           0\n",
       "rest_type          0\n",
       "cuisines           0\n",
       "costing            0\n",
       "reviews_list       0\n",
       "menu_item          0\n",
       "listed_in(type)    0\n",
       "listed_in(city)    0\n",
       "dtype: int64"
      ]
     },
     "execution_count": 25,
     "metadata": {},
     "output_type": "execute_result"
    }
   ],
   "source": [
    "df.isnull().sum()"
   ]
  },
  {
   "cell_type": "markdown",
   "id": "1d3c9724",
   "metadata": {},
   "source": [
    "### Try to find the outlier and remove them \n",
    "- we will try to find the outlier in the numerical data"
   ]
  },
  {
   "cell_type": "code",
   "execution_count": 26,
   "id": "e490c7c3",
   "metadata": {},
   "outputs": [
    {
     "data": {
      "text/plain": [
       "<AxesSubplot:xlabel='rate'>"
      ]
     },
     "execution_count": 26,
     "metadata": {},
     "output_type": "execute_result"
    },
    {
     "data": {
      "image/png": "[encoded data removed]",
      "text/plain": [
       "<Figure size 432x288 with 1 Axes>"
      ]
     },
     "metadata": {
      "needs_background": "light"
     },
     "output_type": "display_data"
    }
   ],
   "source": [
    "sns.boxplot(df.rate)"
   ]
  },
  {
   "cell_type": "code",
   "execution_count": 27,
   "id": "1f822782",
   "metadata": {},
   "outputs": [
    {
     "data": {
      "text/plain": [
       "2845"
      ]
     },
     "execution_count": 27,
     "metadata": {},
     "output_type": "execute_result"
    }
   ],
   "source": [
    "len(df[(df.rate>4.5) | (df.rate<3.0)])"
   ]
  },
  {
   "cell_type": "code",
   "execution_count": 28,
   "id": "d32c00cc",
   "metadata": {},
   "outputs": [
    {
     "data": {
      "text/plain": [
       "<AxesSubplot:xlabel='costing'>"
      ]
     },
     "execution_count": 28,
     "metadata": {},
     "output_type": "execute_result"
    },
    {
     "data": {
      "image/png": "[encoded data removed]",
      "text/plain": [
       "<Figure size 432x288 with 1 Axes>"
      ]
     },
     "metadata": {
      "needs_background": "light"
     },
     "output_type": "display_data"
    }
   ],
   "source": [
    "sns.boxplot(df.costing)"
   ]
  },
  {
   "cell_type": "code",
   "execution_count": 29,
   "id": "97d1e87c",
   "metadata": {},
   "outputs": [
    {
     "data": {
      "text/plain": [
       "3771"
      ]
     },
     "execution_count": 29,
     "metadata": {},
     "output_type": "execute_result"
    }
   ],
   "source": [
    "len(df[df.costing>1200])"
   ]
  },
  {
   "cell_type": "code",
   "execution_count": 30,
   "id": "4d271890",
   "metadata": {},
   "outputs": [
    {
     "data": {
      "text/plain": [
       "<AxesSubplot:xlabel='costing', ylabel='rate'>"
      ]
     },
     "execution_count": 30,
     "metadata": {},
     "output_type": "execute_result"
    },
    {
     "data": {
      "image/png": "[encoded data removed]",
      "text/plain": [
       "<Figure size 432x288 with 1 Axes>"
      ]
     },
     "metadata": {
      "needs_background": "light"
     },
     "output_type": "display_data"
    }
   ],
   "source": [
    "sns.scatterplot(df.costing,df.rate)"
   ]
  },
  {
   "cell_type": "code",
   "execution_count": 31,
   "id": "fd9fc4c2",
   "metadata": {},
   "outputs": [],
   "source": [
    "Q1 = df['rate'].quantile(0.25)\n",
    "Q3 = df['rate'].quantile(0.75)\n",
    "IQR = Q3-Q1\n",
    "lower = Q1-1.5*IQR\n",
    "upper = Q3+1.5*IQR\n",
    "df = df[(df['rate'] >= lower) & (df['rate'] <= upper)]"
   ]
  },
  {
   "cell_type": "code",
   "execution_count": 32,
   "id": "ebd3155e",
   "metadata": {},
   "outputs": [],
   "source": [
    "Q1 = df['costing'].quantile(0.25)\n",
    "Q3 = df['costing'].quantile(0.75)\n",
    "IQR = Q3-Q1\n",
    "lower_costing = Q1-1.5*IQR\n",
    "upper_costing = Q3+1.5*IQR\n",
    "df = df[(df['costing'] >= lower_costing) & (df['costing'] <= upper_costing)]"
   ]
  },
  {
   "cell_type": "code",
   "execution_count": 33,
   "id": "dac21875",
   "metadata": {
    "scrolled": true
   },
   "outputs": [
    {
     "data": {
      "text/plain": [
       "<AxesSubplot:xlabel='costing', ylabel='rate'>"
      ]
     },
     "execution_count": 33,
     "metadata": {},
     "output_type": "execute_result"
    },
    {
     "data": {
      "image/png": "[encoded data removed]",
      "text/plain": [
       "<Figure size 432x288 with 1 Axes>"
      ]
     },
     "metadata": {
      "needs_background": "light"
     },
     "output_type": "display_data"
    }
   ],
   "source": [
    "sns.scatterplot(df.costing,df.rate)"
   ]
  },
  {
   "cell_type": "markdown",
   "id": "e27a1264",
   "metadata": {},
   "source": [
    "- we don.t need the __address__ , __name__ , __reviews__<br>\n",
    "- because we dont do anything with address and name<br>\n",
    "- also its not a NLP problem where we have to identify the reviews because if we see carefully reviews are according to the rating\n",
    "- also we don't need __listed_in(city)__ because it tells that which is nearby our restraunt \n",
    "#### so we will drop all these"
   ]
  },
  {
   "cell_type": "code",
   "execution_count": 34,
   "id": "88abe9a2",
   "metadata": {},
   "outputs": [],
   "source": [
    "df.drop(['listed_in(city)','name','address','reviews_list'],inplace=True,axis=1)"
   ]
  },
  {
   "cell_type": "markdown",
   "id": "02b3ddf5",
   "metadata": {},
   "source": [
    "#### cleaning completed...."
   ]
  },
  {
   "cell_type": "code",
   "execution_count": 35,
   "id": "037424c9",
   "metadata": {},
   "outputs": [
    {
     "data": {
      "text/plain": [
       "(44517, 11)"
      ]
     },
     "execution_count": 35,
     "metadata": {},
     "output_type": "execute_result"
    }
   ],
   "source": [
    "df.shape"
   ]
  },
  {
   "cell_type": "markdown",
   "id": "5fdd432c",
   "metadata": {},
   "source": [
    "### Analysis Part"
   ]
  },
  {
   "cell_type": "markdown",
   "id": "fb5c85a5",
   "metadata": {},
   "source": [
    "- univariate analysis : In the univariate analysis our data contain only one variable <br>\n",
    "    - it is basically help to find the patterns\n",
    "- Bivariate analysis : In bivariate analysis our data contain two different variable <br>\n",
    "    - it is used to setup the relationship b/w variable\n",
    "- Multivariate analysis: These involve more than two variable These patterns understood by mean, median, mode<br>\n",
    "<br>\n",
    "for univariate analysis we can use : countplot, histplot, pie chart,kdeplot<br>\n",
    "for bi variate analysis we can use : scatterplot, barplot, joint plot<br>\n",
    "for multivarite analysis we can use heatmap ,correlation, 2-D scatterplot<br>"
   ]
  },
  {
   "cell_type": "markdown",
   "id": "95eb9697",
   "metadata": {},
   "source": [
    "### Univariate analysis"
   ]
  },
  {
   "cell_type": "markdown",
   "id": "1b5051d8",
   "metadata": {},
   "source": [
    "#### Does the restraunt have the booking option ?"
   ]
  },
  {
   "cell_type": "code",
   "execution_count": 36,
   "id": "78646c4a",
   "metadata": {
    "scrolled": true
   },
   "outputs": [
    {
     "data": {
      "image/png": "[encoded data removed]",
      "text/plain": [
       "<Figure size 360x360 with 1 Axes>"
      ]
     },
     "metadata": {},
     "output_type": "display_data"
    }
   ],
   "source": [
    "category = df.book_table.value_counts()\n",
    "plt.figure(figsize=(5,5))\n",
    "plt.pie(category,labels=category.index,autopct='%1.1f%%')\n",
    "plt.show()"
   ]
  },
  {
   "cell_type": "markdown",
   "id": "b738713f",
   "metadata": {},
   "source": [
    "- most of the restraunt doesn't have a booking option"
   ]
  },
  {
   "cell_type": "markdown",
   "id": "06016475",
   "metadata": {},
   "source": [
    "#### Does the restraunt have online order facility"
   ]
  },
  {
   "cell_type": "code",
   "execution_count": 37,
   "id": "a0b0be49",
   "metadata": {
    "scrolled": true
   },
   "outputs": [
    {
     "data": {
      "image/png": "[encoded data removed]",
      "text/plain": [
       "<Figure size 576x360 with 1 Axes>"
      ]
     },
     "metadata": {
      "needs_background": "light"
     },
     "output_type": "display_data"
    }
   ],
   "source": [
    "plt.figure(figsize=(8,5))\n",
    "sns.countplot(df.online_order)\n",
    "plt.show()"
   ]
  },
  {
   "cell_type": "markdown",
   "id": "1056dc2e",
   "metadata": {},
   "source": [
    "- most of the restraunt have the online order facility"
   ]
  },
  {
   "cell_type": "markdown",
   "id": "d93fb34d",
   "metadata": {},
   "source": [
    "#### Does the restraunt have their phone number provided ?"
   ]
  },
  {
   "cell_type": "code",
   "execution_count": 38,
   "id": "9c8c5adf",
   "metadata": {},
   "outputs": [
    {
     "data": {
      "image/png": "[encoded data removed]",
      "text/plain": [
       "<Figure size 360x360 with 1 Axes>"
      ]
     },
     "metadata": {},
     "output_type": "display_data"
    }
   ],
   "source": [
    "category_phone = df.phone.value_counts()\n",
    "plt.figure(figsize=(5,5))\n",
    "plt.pie(category_phone,labels = category_phone.index,autopct='%0.1f%%')\n",
    "plt.show()"
   ]
  },
  {
   "cell_type": "markdown",
   "id": "ee5834e1",
   "metadata": {},
   "source": [
    "- most of the restraunt have their phone number provided by them"
   ]
  },
  {
   "cell_type": "markdown",
   "id": "2f6ad305",
   "metadata": {},
   "source": [
    "### Bivariate analysis"
   ]
  },
  {
   "cell_type": "code",
   "execution_count": 39,
   "id": "ead746f0",
   "metadata": {
    "scrolled": true
   },
   "outputs": [
    {
     "data": {
      "text/plain": [
       "online_order\n",
       "No     3.649912\n",
       "Yes    3.727631\n",
       "Name: rate, dtype: float64"
      ]
     },
     "execution_count": 39,
     "metadata": {},
     "output_type": "execute_result"
    }
   ],
   "source": [
    "online_order = df.groupby('online_order')['rate'].mean()\n",
    "online_order"
   ]
  },
  {
   "cell_type": "code",
   "execution_count": 40,
   "id": "0de4d1a0",
   "metadata": {},
   "outputs": [
    {
     "data": {
      "text/plain": [
       "book_table\n",
       "No     3.671935\n",
       "Yes    4.053322\n",
       "Name: rate, dtype: float64"
      ]
     },
     "execution_count": 40,
     "metadata": {},
     "output_type": "execute_result"
    }
   ],
   "source": [
    "book_table = df.groupby('book_table')['rate'].mean()\n",
    "book_table"
   ]
  },
  {
   "cell_type": "code",
   "execution_count": 41,
   "id": "c2f02e4a",
   "metadata": {},
   "outputs": [
    {
     "data": {
      "text/plain": [
       "phone\n",
       "No     3.699024\n",
       "Yes    3.696898\n",
       "Name: rate, dtype: float64"
      ]
     },
     "execution_count": 41,
     "metadata": {},
     "output_type": "execute_result"
    }
   ],
   "source": [
    "phone = df.groupby('phone')['rate'].mean()\n",
    "phone"
   ]
  },
  {
   "cell_type": "markdown",
   "id": "9fc11750",
   "metadata": {},
   "source": [
    "- over here we can understood that :\n",
    "    - if the __online_order__ is available then rating will be good\n",
    "    - also if the __book_table__ option is available then we have the rating high\n",
    "    - also if the __phone number__ is available then also the rating goes high"
   ]
  },
  {
   "cell_type": "code",
   "execution_count": 42,
   "id": "d6ed17b6",
   "metadata": {},
   "outputs": [
    {
     "data": {
      "text/plain": [
       "location\n",
       "Basavanagudi         3.714861\n",
       "Banashankari         3.680047\n",
       "BTM                  3.636582\n",
       "Bannerghatta Road    3.607976\n",
       "Banaswadi            3.586146\n",
       "Name: rate, dtype: float64"
      ]
     },
     "execution_count": 42,
     "metadata": {},
     "output_type": "execute_result"
    }
   ],
   "source": [
    "df.groupby('location')['rate'].mean()[0:5].sort_values(ascending = False)"
   ]
  },
  {
   "cell_type": "code",
   "execution_count": 43,
   "id": "328a50c4",
   "metadata": {},
   "outputs": [
    {
     "data": {
      "text/plain": [
       "rest_type\n",
       "Cafe, Lounge                   4.400000\n",
       "Casual Dining, Cafe            4.163060\n",
       "Casual Dining, Microbrewery    4.150000\n",
       "Pub, Casual Dining             4.126582\n",
       "Casual Dining, Pub             4.120000\n",
       "                                 ...   \n",
       "Quick Bites, Kiosk             3.300000\n",
       "Bhojanalya                     3.266667\n",
       "Fine Dining                    3.160000\n",
       "Dessert Parlor, Kiosk          3.100000\n",
       "Bakery, Food Court             3.100000\n",
       "Name: rate, Length: 74, dtype: float64"
      ]
     },
     "execution_count": 43,
     "metadata": {},
     "output_type": "execute_result"
    }
   ],
   "source": [
    "df.groupby('rest_type')['rate'].mean().sort_values(ascending = False)"
   ]
  },
  {
   "cell_type": "markdown",
   "id": "1101b705",
   "metadata": {},
   "source": [
    "- There are too many __restraunt_type__ with same category so we will try to keep them into one single category"
   ]
  },
  {
   "cell_type": "code",
   "execution_count": 44,
   "id": "8cd21595",
   "metadata": {},
   "outputs": [],
   "source": [
    "cafe = ['Cafe, Casual Dining','Cafe','Quick Bites, Cafe','Quick Bites','Cafe, Lounge']\n",
    "\n",
    "bakery = ['Bakery','Dessert Parlor','Bakery, Dessert Parlor','Bakery, Quick Bites','Quick Bites, Bakery',\n",
    "          'Food Court, Dessert Parlor','Dessert Parlor, Quick Bites','Quick Bites, Dessert Parlor','Sweet Shop, Quick Bites',\n",
    "          'Quick Bites, Beverage Shop','Dessert Parlor, Sweet Shop','Sweet Shop','Quick Bites, Sweet Shop','Cafe, Dessert Parlor',\n",
    "          'Dessert Parlor, Food Court', 'Dessert Parlor, Kiosk','Bakery, Kiosk']\n",
    "\n",
    "bar = ['Bar','Casual Dining, Bar','Bar, Casual Dining','Bar, Cafe','Pub, Bar','Lounge, Bar']\n",
    "pub = ['Pub' , 'Casual Dining, Pub' , 'Pub, Casual Dining','Pub, Microbrewery']\n",
    "mess = ['Quick Bites, Mess', 'Bhojanalya' , 'Mess, Quick Bites','Dhaba']\n",
    "\n",
    "cafe_bakery = ['Bakery, Cafe','Cafe, Bakery','Mess']\n",
    "Beverage =['Food Court, Beverage Shop','Beverage Shop, Cafe','Beverage Shop, Dessert Parlor''Beverage Shop', 'Bakery, Beverage Shop','Beverage Shop, Quick Bites']\n",
    "sweet = ['Sweet Shop, Quick Bites','Dessert Parlor, Beverage Shop','Casual Dining, Sweet Shop','Sweet Shop, Dessert Parlor',\n",
    "        'Bakery, Sweet Shop','Dessert Parlor, Bakery','Dessert Parlor, Cafe']\n",
    "\n",
    "food_court=['Food Court','Food Court, Quick Bites','Food Truck','Food Court, Casual Dining','Bakery, Food Court','Cafe, Food Court',\n",
    "           'Quick Bites, Food Court',]\n",
    "casual_dining =[\"Casual Dining\",'Casual Dining, Lounge', 'Lounge', 'Casual Dining, Microbrewery', 'Quick Bites, Meat Shop', 'Quick Bites, Kiosk'\n",
    "               ,'Casual Dining, Quick Bites','Fine Dining']\n",
    "\n",
    "def change_rest(x):\n",
    "    if x in cafe :\n",
    "        return \"Cafe\"\n",
    "    elif x in bakery:\n",
    "        return \"bakery\"\n",
    "    elif x in bar:\n",
    "        return \"bar\"\n",
    "    elif x in pub :\n",
    "        return \"pub\"\n",
    "    elif x in cafe_bakery:\n",
    "        return \"cafe & bakery\"\n",
    "    elif x in mess:\n",
    "        return \"mess\"\n",
    "    elif x in Beverage:\n",
    "        return \"Bevarage\"\n",
    "    elif x in sweet :\n",
    "        return \"sweet\"\n",
    "    elif x in food_court:\n",
    "        return \"food_court\"\n",
    "    elif x in casual_dining:\n",
    "        return \"casual_dining\"\n",
    "    else:\n",
    "        return \"others\"\n",
    "    \n",
    "df['rest_type'] = df['rest_type'].apply(lambda x : change_rest(x))"
   ]
  },
  {
   "cell_type": "code",
   "execution_count": 45,
   "id": "a0f66f63",
   "metadata": {},
   "outputs": [
    {
     "data": {
      "text/plain": [
       "rest_type\n",
       "pub              3.998712\n",
       "sweet            3.924702\n",
       "bar              3.796166\n",
       "cafe & bakery    3.786858\n",
       "casual_dining    3.757055\n",
       "bakery           3.749836\n",
       "Bevarage         3.723837\n",
       "others           3.666617\n",
       "Cafe             3.661807\n",
       "food_court       3.599072\n",
       "mess             3.508000\n",
       "Name: rate, dtype: float64"
      ]
     },
     "execution_count": 45,
     "metadata": {},
     "output_type": "execute_result"
    }
   ],
   "source": [
    "df.groupby('rest_type')['rate'].mean().sort_values(ascending=False)"
   ]
  },
  {
   "cell_type": "code",
   "execution_count": 46,
   "id": "0c5b332e",
   "metadata": {},
   "outputs": [
    {
     "data": {
      "text/plain": [
       "listed_in(type)\n",
       "Cafes                 3.872376\n",
       "Buffet                3.859893\n",
       "Drinks & nightlife    3.843403\n",
       "Pubs and bars         3.817213\n",
       "Desserts              3.763353\n",
       "Delivery              3.682475\n",
       "Dine-out              3.677717\n",
       "Name: rate, dtype: float64"
      ]
     },
     "execution_count": 46,
     "metadata": {},
     "output_type": "execute_result"
    }
   ],
   "source": [
    "df.groupby('listed_in(type)')['rate'].mean().sort_values(ascending=False)"
   ]
  },
  {
   "cell_type": "code",
   "execution_count": 47,
   "id": "c8decc17",
   "metadata": {
    "scrolled": false
   },
   "outputs": [
    {
     "data": {
      "text/html": [
       "<div>\n",
       "<style scoped>\n",
       "    .dataframe tbody tr th:only-of-type {\n",
       "        vertical-align: middle;\n",
       "    }\n",
       "\n",
       "    .dataframe tbody tr th {\n",
       "        vertical-align: top;\n",
       "    }\n",
       "\n",
       "    .dataframe thead th {\n",
       "        text-align: right;\n",
       "    }\n",
       "</style>\n",
       "<table border=\"1\" class=\"dataframe\">\n",
       "  <thead>\n",
       "    <tr style=\"text-align: right;\">\n",
       "      <th></th>\n",
       "      <th>online_order</th>\n",
       "      <th>book_table</th>\n",
       "      <th>rate</th>\n",
       "      <th>votes</th>\n",
       "      <th>phone</th>\n",
       "      <th>location</th>\n",
       "      <th>rest_type</th>\n",
       "      <th>cuisines</th>\n",
       "      <th>costing</th>\n",
       "      <th>menu_item</th>\n",
       "      <th>listed_in(type)</th>\n",
       "    </tr>\n",
       "  </thead>\n",
       "  <tbody>\n",
       "    <tr>\n",
       "      <th>0</th>\n",
       "      <td>Yes</td>\n",
       "      <td>Yes</td>\n",
       "      <td>4.1</td>\n",
       "      <td>775</td>\n",
       "      <td>Yes</td>\n",
       "      <td>Banashankari</td>\n",
       "      <td>casual_dining</td>\n",
       "      <td>North Indian, Mughlai, Chinese</td>\n",
       "      <td>800</td>\n",
       "      <td>[]</td>\n",
       "      <td>Buffet</td>\n",
       "    </tr>\n",
       "    <tr>\n",
       "      <th>1</th>\n",
       "      <td>Yes</td>\n",
       "      <td>No</td>\n",
       "      <td>4.1</td>\n",
       "      <td>787</td>\n",
       "      <td>Yes</td>\n",
       "      <td>Banashankari</td>\n",
       "      <td>casual_dining</td>\n",
       "      <td>Chinese, North Indian, Thai</td>\n",
       "      <td>800</td>\n",
       "      <td>[]</td>\n",
       "      <td>Buffet</td>\n",
       "    </tr>\n",
       "  </tbody>\n",
       "</table>\n",
       "</div>"
      ],
      "text/plain": [
       "  online_order book_table  rate  votes phone      location      rest_type  \\\n",
       "0          Yes        Yes   4.1    775   Yes  Banashankari  casual_dining   \n",
       "1          Yes         No   4.1    787   Yes  Banashankari  casual_dining   \n",
       "\n",
       "                         cuisines  costing menu_item listed_in(type)  \n",
       "0  North Indian, Mughlai, Chinese      800        []          Buffet  \n",
       "1     Chinese, North Indian, Thai      800        []          Buffet  "
      ]
     },
     "execution_count": 47,
     "metadata": {},
     "output_type": "execute_result"
    }
   ],
   "source": [
    "df.head(2)"
   ]
  },
  {
   "cell_type": "code",
   "execution_count": 48,
   "id": "cfe70718",
   "metadata": {},
   "outputs": [],
   "source": [
    "def name_array_length(arr):\n",
    "    if len(arr) > 2:\n",
    "        return 'menu available'\n",
    "    else:\n",
    "        return 'menu not availabe'\n",
    "df['menu'] = df['menu_item'].apply(name_array_length)"
   ]
  },
  {
   "cell_type": "code",
   "execution_count": 49,
   "id": "a64925a2",
   "metadata": {},
   "outputs": [
    {
     "data": {
      "text/html": [
       "<div>\n",
       "<style scoped>\n",
       "    .dataframe tbody tr th:only-of-type {\n",
       "        vertical-align: middle;\n",
       "    }\n",
       "\n",
       "    .dataframe tbody tr th {\n",
       "        vertical-align: top;\n",
       "    }\n",
       "\n",
       "    .dataframe thead th {\n",
       "        text-align: right;\n",
       "    }\n",
       "</style>\n",
       "<table border=\"1\" class=\"dataframe\">\n",
       "  <thead>\n",
       "    <tr style=\"text-align: right;\">\n",
       "      <th></th>\n",
       "      <th>online_order</th>\n",
       "      <th>book_table</th>\n",
       "      <th>rate</th>\n",
       "      <th>votes</th>\n",
       "      <th>phone</th>\n",
       "      <th>location</th>\n",
       "      <th>rest_type</th>\n",
       "      <th>cuisines</th>\n",
       "      <th>costing</th>\n",
       "      <th>menu_item</th>\n",
       "      <th>listed_in(type)</th>\n",
       "      <th>menu</th>\n",
       "    </tr>\n",
       "  </thead>\n",
       "  <tbody>\n",
       "    <tr>\n",
       "      <th>49085</th>\n",
       "      <td>Yes</td>\n",
       "      <td>No</td>\n",
       "      <td>4.0</td>\n",
       "      <td>34</td>\n",
       "      <td>Yes</td>\n",
       "      <td>Sarjapur Road</td>\n",
       "      <td>Cafe</td>\n",
       "      <td>Cafe, Rolls, Fast Food</td>\n",
       "      <td>200</td>\n",
       "      <td>['Chai with Bun Egg Bhurji', 'Chai with Parath...</td>\n",
       "      <td>Delivery</td>\n",
       "      <td>menu available</td>\n",
       "    </tr>\n",
       "    <tr>\n",
       "      <th>17692</th>\n",
       "      <td>Yes</td>\n",
       "      <td>No</td>\n",
       "      <td>3.9</td>\n",
       "      <td>83</td>\n",
       "      <td>Yes</td>\n",
       "      <td>CV Raman Nagar</td>\n",
       "      <td>Cafe</td>\n",
       "      <td>North Indian</td>\n",
       "      <td>300</td>\n",
       "      <td>[]</td>\n",
       "      <td>Delivery</td>\n",
       "      <td>menu not availabe</td>\n",
       "    </tr>\n",
       "    <tr>\n",
       "      <th>24100</th>\n",
       "      <td>Yes</td>\n",
       "      <td>No</td>\n",
       "      <td>3.7</td>\n",
       "      <td>0</td>\n",
       "      <td>Yes</td>\n",
       "      <td>Banaswadi</td>\n",
       "      <td>casual_dining</td>\n",
       "      <td>Andhra, North Indian, Chinese, Seafood</td>\n",
       "      <td>500</td>\n",
       "      <td>[]</td>\n",
       "      <td>Delivery</td>\n",
       "      <td>menu not availabe</td>\n",
       "    </tr>\n",
       "    <tr>\n",
       "      <th>42084</th>\n",
       "      <td>No</td>\n",
       "      <td>No</td>\n",
       "      <td>3.7</td>\n",
       "      <td>0</td>\n",
       "      <td>Yes</td>\n",
       "      <td>Brookefield</td>\n",
       "      <td>casual_dining</td>\n",
       "      <td>North Indian, Chinese</td>\n",
       "      <td>600</td>\n",
       "      <td>[]</td>\n",
       "      <td>Dine-out</td>\n",
       "      <td>menu not availabe</td>\n",
       "    </tr>\n",
       "    <tr>\n",
       "      <th>12694</th>\n",
       "      <td>Yes</td>\n",
       "      <td>No</td>\n",
       "      <td>3.7</td>\n",
       "      <td>66</td>\n",
       "      <td>Yes</td>\n",
       "      <td>Ulsoor</td>\n",
       "      <td>Cafe</td>\n",
       "      <td>Cafe, Mediterranean, Italian, Pizza, Continental</td>\n",
       "      <td>800</td>\n",
       "      <td>['Parmigiano Chicken', 'Classic Margherlta', '...</td>\n",
       "      <td>Dine-out</td>\n",
       "      <td>menu available</td>\n",
       "    </tr>\n",
       "  </tbody>\n",
       "</table>\n",
       "</div>"
      ],
      "text/plain": [
       "      online_order book_table  rate  votes phone        location  \\\n",
       "49085          Yes         No   4.0     34   Yes   Sarjapur Road   \n",
       "17692          Yes         No   3.9     83   Yes  CV Raman Nagar   \n",
       "24100          Yes         No   3.7      0   Yes       Banaswadi   \n",
       "42084           No         No   3.7      0   Yes     Brookefield   \n",
       "12694          Yes         No   3.7     66   Yes          Ulsoor   \n",
       "\n",
       "           rest_type                                          cuisines  \\\n",
       "49085           Cafe                            Cafe, Rolls, Fast Food   \n",
       "17692           Cafe                                      North Indian   \n",
       "24100  casual_dining            Andhra, North Indian, Chinese, Seafood   \n",
       "42084  casual_dining                             North Indian, Chinese   \n",
       "12694           Cafe  Cafe, Mediterranean, Italian, Pizza, Continental   \n",
       "\n",
       "       costing                                          menu_item  \\\n",
       "49085      200  ['Chai with Bun Egg Bhurji', 'Chai with Parath...   \n",
       "17692      300                                                 []   \n",
       "24100      500                                                 []   \n",
       "42084      600                                                 []   \n",
       "12694      800  ['Parmigiano Chicken', 'Classic Margherlta', '...   \n",
       "\n",
       "      listed_in(type)               menu  \n",
       "49085        Delivery     menu available  \n",
       "17692        Delivery  menu not availabe  \n",
       "24100        Delivery  menu not availabe  \n",
       "42084        Dine-out  menu not availabe  \n",
       "12694        Dine-out     menu available  "
      ]
     },
     "execution_count": 49,
     "metadata": {},
     "output_type": "execute_result"
    }
   ],
   "source": [
    "df.sample(5)"
   ]
  },
  {
   "cell_type": "markdown",
   "id": "758a5b34",
   "metadata": {},
   "source": [
    "- we can drop the menu_item column because we have extract the info from it"
   ]
  },
  {
   "cell_type": "code",
   "execution_count": 50,
   "id": "48284d6e",
   "metadata": {},
   "outputs": [],
   "source": [
    "df.drop(['menu_item'],inplace=True,axis=1)"
   ]
  },
  {
   "cell_type": "code",
   "execution_count": 51,
   "id": "02805218",
   "metadata": {},
   "outputs": [
    {
     "data": {
      "text/html": [
       "<div>\n",
       "<style scoped>\n",
       "    .dataframe tbody tr th:only-of-type {\n",
       "        vertical-align: middle;\n",
       "    }\n",
       "\n",
       "    .dataframe tbody tr th {\n",
       "        vertical-align: top;\n",
       "    }\n",
       "\n",
       "    .dataframe thead th {\n",
       "        text-align: right;\n",
       "    }\n",
       "</style>\n",
       "<table border=\"1\" class=\"dataframe\">\n",
       "  <thead>\n",
       "    <tr style=\"text-align: right;\">\n",
       "      <th></th>\n",
       "      <th>rate</th>\n",
       "      <th>votes</th>\n",
       "      <th>costing</th>\n",
       "    </tr>\n",
       "  </thead>\n",
       "  <tbody>\n",
       "    <tr>\n",
       "      <th>rate</th>\n",
       "      <td>1.000000</td>\n",
       "      <td>0.421582</td>\n",
       "      <td>0.279763</td>\n",
       "    </tr>\n",
       "    <tr>\n",
       "      <th>votes</th>\n",
       "      <td>0.421582</td>\n",
       "      <td>1.000000</td>\n",
       "      <td>0.341863</td>\n",
       "    </tr>\n",
       "    <tr>\n",
       "      <th>costing</th>\n",
       "      <td>0.279763</td>\n",
       "      <td>0.341863</td>\n",
       "      <td>1.000000</td>\n",
       "    </tr>\n",
       "  </tbody>\n",
       "</table>\n",
       "</div>"
      ],
      "text/plain": [
       "             rate     votes   costing\n",
       "rate     1.000000  0.421582  0.279763\n",
       "votes    0.421582  1.000000  0.341863\n",
       "costing  0.279763  0.341863  1.000000"
      ]
     },
     "execution_count": 51,
     "metadata": {},
     "output_type": "execute_result"
    }
   ],
   "source": [
    "df.corr()"
   ]
  },
  {
   "cell_type": "code",
   "execution_count": 52,
   "id": "01904568",
   "metadata": {},
   "outputs": [
    {
     "data": {
      "text/plain": [
       "Delivery              23732\n",
       "Dine-out              14926\n",
       "Desserts               3400\n",
       "Cafes                  1553\n",
       "Buffet                  374\n",
       "Drinks & nightlife      288\n",
       "Pubs and bars           244\n",
       "Name: listed_in(type), dtype: int64"
      ]
     },
     "execution_count": 52,
     "metadata": {},
     "output_type": "execute_result"
    }
   ],
   "source": [
    "df['listed_in(type)'].value_counts()"
   ]
  },
  {
   "cell_type": "markdown",
   "id": "4d10687b",
   "metadata": {},
   "source": [
    "- now the __rest_type__ and __listed_in(type)__ are approximatley same so we will drop one of that "
   ]
  },
  {
   "cell_type": "code",
   "execution_count": 53,
   "id": "08616a7a",
   "metadata": {},
   "outputs": [],
   "source": [
    "df.drop('rest_type',inplace=True,axis=1)"
   ]
  },
  {
   "cell_type": "code",
   "execution_count": 54,
   "id": "64b6903a",
   "metadata": {},
   "outputs": [
    {
     "data": {
      "text/html": [
       "<div>\n",
       "<style scoped>\n",
       "    .dataframe tbody tr th:only-of-type {\n",
       "        vertical-align: middle;\n",
       "    }\n",
       "\n",
       "    .dataframe tbody tr th {\n",
       "        vertical-align: top;\n",
       "    }\n",
       "\n",
       "    .dataframe thead th {\n",
       "        text-align: right;\n",
       "    }\n",
       "</style>\n",
       "<table border=\"1\" class=\"dataframe\">\n",
       "  <thead>\n",
       "    <tr style=\"text-align: right;\">\n",
       "      <th></th>\n",
       "      <th>online_order</th>\n",
       "      <th>book_table</th>\n",
       "      <th>rate</th>\n",
       "      <th>votes</th>\n",
       "      <th>phone</th>\n",
       "      <th>location</th>\n",
       "      <th>cuisines</th>\n",
       "      <th>costing</th>\n",
       "      <th>listed_in(type)</th>\n",
       "      <th>menu</th>\n",
       "    </tr>\n",
       "  </thead>\n",
       "  <tbody>\n",
       "    <tr>\n",
       "      <th>0</th>\n",
       "      <td>Yes</td>\n",
       "      <td>Yes</td>\n",
       "      <td>4.1</td>\n",
       "      <td>775</td>\n",
       "      <td>Yes</td>\n",
       "      <td>Banashankari</td>\n",
       "      <td>North Indian, Mughlai, Chinese</td>\n",
       "      <td>800</td>\n",
       "      <td>Buffet</td>\n",
       "      <td>menu not availabe</td>\n",
       "    </tr>\n",
       "    <tr>\n",
       "      <th>1</th>\n",
       "      <td>Yes</td>\n",
       "      <td>No</td>\n",
       "      <td>4.1</td>\n",
       "      <td>787</td>\n",
       "      <td>Yes</td>\n",
       "      <td>Banashankari</td>\n",
       "      <td>Chinese, North Indian, Thai</td>\n",
       "      <td>800</td>\n",
       "      <td>Buffet</td>\n",
       "      <td>menu not availabe</td>\n",
       "    </tr>\n",
       "    <tr>\n",
       "      <th>2</th>\n",
       "      <td>Yes</td>\n",
       "      <td>No</td>\n",
       "      <td>3.8</td>\n",
       "      <td>918</td>\n",
       "      <td>Yes</td>\n",
       "      <td>Banashankari</td>\n",
       "      <td>Cafe, Mexican, Italian</td>\n",
       "      <td>800</td>\n",
       "      <td>Buffet</td>\n",
       "      <td>menu not availabe</td>\n",
       "    </tr>\n",
       "    <tr>\n",
       "      <th>3</th>\n",
       "      <td>No</td>\n",
       "      <td>No</td>\n",
       "      <td>3.7</td>\n",
       "      <td>88</td>\n",
       "      <td>Yes</td>\n",
       "      <td>Banashankari</td>\n",
       "      <td>South Indian, North Indian</td>\n",
       "      <td>300</td>\n",
       "      <td>Buffet</td>\n",
       "      <td>menu not availabe</td>\n",
       "    </tr>\n",
       "    <tr>\n",
       "      <th>4</th>\n",
       "      <td>No</td>\n",
       "      <td>No</td>\n",
       "      <td>3.8</td>\n",
       "      <td>166</td>\n",
       "      <td>Yes</td>\n",
       "      <td>Basavanagudi</td>\n",
       "      <td>North Indian, Rajasthani</td>\n",
       "      <td>600</td>\n",
       "      <td>Buffet</td>\n",
       "      <td>menu not availabe</td>\n",
       "    </tr>\n",
       "  </tbody>\n",
       "</table>\n",
       "</div>"
      ],
      "text/plain": [
       "  online_order book_table  rate  votes phone      location  \\\n",
       "0          Yes        Yes   4.1    775   Yes  Banashankari   \n",
       "1          Yes         No   4.1    787   Yes  Banashankari   \n",
       "2          Yes         No   3.8    918   Yes  Banashankari   \n",
       "3           No         No   3.7     88   Yes  Banashankari   \n",
       "4           No         No   3.8    166   Yes  Basavanagudi   \n",
       "\n",
       "                         cuisines  costing listed_in(type)               menu  \n",
       "0  North Indian, Mughlai, Chinese      800          Buffet  menu not availabe  \n",
       "1     Chinese, North Indian, Thai      800          Buffet  menu not availabe  \n",
       "2          Cafe, Mexican, Italian      800          Buffet  menu not availabe  \n",
       "3      South Indian, North Indian      300          Buffet  menu not availabe  \n",
       "4        North Indian, Rajasthani      600          Buffet  menu not availabe  "
      ]
     },
     "execution_count": 54,
     "metadata": {},
     "output_type": "execute_result"
    }
   ],
   "source": [
    "df.head()"
   ]
  },
  {
   "cell_type": "code",
   "execution_count": 55,
   "id": "ab6c0c6e",
   "metadata": {},
   "outputs": [
    {
     "data": {
      "text/plain": [
       "North Indian                                                 2658\n",
       "North Indian, Chinese                                        2099\n",
       "South Indian                                                 1780\n",
       "Biryani                                                       890\n",
       "Bakery, Desserts                                              881\n",
       "                                                             ... \n",
       "Biryani, Bengali                                                1\n",
       "Hyderabadi, Biryani, North Indian, Chinese                      1\n",
       "North Indian, Chinese, Continental, Italian, South Indian       1\n",
       "Arabian, North Indian, Chinese                                  1\n",
       "North Indian, Chinese, Arabian, Momos                           1\n",
       "Name: cuisines, Length: 2296, dtype: int64"
      ]
     },
     "execution_count": 55,
     "metadata": {},
     "output_type": "execute_result"
    }
   ],
   "source": [
    "df.cuisines.value_counts()"
   ]
  },
  {
   "cell_type": "code",
   "execution_count": null,
   "id": "544298a4",
   "metadata": {},
   "outputs": [],
   "source": []
  },
  {
   "cell_type": "code",
   "execution_count": null,
   "id": "de7fcec7",
   "metadata": {},
   "outputs": [],
   "source": []
  },
  {
   "cell_type": "code",
   "execution_count": null,
   "id": "02704be8",
   "metadata": {},
   "outputs": [],
   "source": []
  },
  {
   "cell_type": "code",
   "execution_count": null,
   "id": "57949ec7",
   "metadata": {},
   "outputs": [],
   "source": []
  },
  {
   "cell_type": "code",
   "execution_count": null,
   "id": "57bf57f5",
   "metadata": {},
   "outputs": [],
   "source": []
  },
  {
   "cell_type": "code",
   "execution_count": null,
   "id": "f3534001",
   "metadata": {},
   "outputs": [],
   "source": []
  },
  {
   "cell_type": "code",
   "execution_count": null,
   "id": "3df9bfaf",
   "metadata": {},
   "outputs": [],
   "source": []
  },
  {
   "cell_type": "code",
   "execution_count": null,
   "id": "e1314a3c",
   "metadata": {},
   "outputs": [],
   "source": []
  },
  {
   "cell_type": "code",
   "execution_count": null,
   "id": "774fbdfb",
   "metadata": {},
   "outputs": [],
   "source": []
  },
  {
   "cell_type": "code",
   "execution_count": null,
   "id": "441d34ba",
   "metadata": {},
   "outputs": [],
   "source": []
  },
  {
   "cell_type": "markdown",
   "id": "ed3ed44d",
   "metadata": {},
   "source": [
    "### Label encoding"
   ]
  },
  {
   "cell_type": "markdown",
   "id": "915e186a",
   "metadata": {},
   "source": [
    "- We can use lable encoding and one hot encoding <br>\n",
    "- In one hot encoding we basically increase the dimension of the data and it is used when we have the very less category in columns <br>\n",
    "- Label encoding we used because it doesnot increase the dimension of the data also it label the category in the same column so easy to understand"
   ]
  },
  {
   "cell_type": "code",
   "execution_count": 56,
   "id": "8a79ee24",
   "metadata": {},
   "outputs": [],
   "source": [
    "from sklearn.preprocessing import LabelEncoder"
   ]
  },
  {
   "cell_type": "code",
   "execution_count": 57,
   "id": "a5eee726",
   "metadata": {},
   "outputs": [],
   "source": [
    "label = LabelEncoder()"
   ]
  }
 ],
 "metadata": {
  "kernelspec": {
   "display_name": "Python 3 (ipykernel)",
   "language": "python",
   "name": "python3"
  },
  "language_info": {
   "codemirror_mode": {
    "name": "ipython",
    "version": 3
   },
   "file_extension": ".py",
   "mimetype": "text/x-python",
   "name": "python",
   "nbconvert_exporter": "python",
   "pygments_lexer": "ipython3",
   "version": "3.9.7"
  }
 },
 "nbformat": 4,
 "nbformat_minor": 5
}
